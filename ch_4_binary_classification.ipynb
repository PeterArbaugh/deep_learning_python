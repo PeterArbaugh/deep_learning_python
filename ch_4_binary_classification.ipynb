{
  "nbformat": 4,
  "nbformat_minor": 0,
  "metadata": {
    "colab": {
      "provenance": [],
      "authorship_tag": "ABX9TyPI9o05kfoQ8yoD/HoAxAlF",
      "include_colab_link": true
    },
    "kernelspec": {
      "name": "python3",
      "display_name": "Python 3"
    },
    "language_info": {
      "name": "python"
    }
  },
  "cells": [
    {
      "cell_type": "markdown",
      "metadata": {
        "id": "view-in-github",
        "colab_type": "text"
      },
      "source": [
        "<a href=\"https://colab.research.google.com/github/PeterArbaugh/deep_learning_python/blob/main/ch_4_binary_classification.ipynb\" target=\"_parent\"><img src=\"https://colab.research.google.com/assets/colab-badge.svg\" alt=\"Open In Colab\"/></a>"
      ]
    },
    {
      "cell_type": "code",
      "execution_count": 3,
      "metadata": {
        "colab": {
          "base_uri": "https://localhost:8080/"
        },
        "id": "C6Ro8foE-x-F",
        "outputId": "493b2973-102a-47f6-a7b3-6dbcb3d5fbf1"
      },
      "outputs": [
        {
          "output_type": "stream",
          "name": "stdout",
          "text": [
            "Downloading data from https://storage.googleapis.com/tensorflow/tf-keras-datasets/imdb.npz\n",
            "17464789/17464789 [==============================] - 0s 0us/step\n"
          ]
        }
      ],
      "source": [
        "from tensorflow.keras.datasets import imdb\n",
        "(train_data, train_labels), (test_data, test_labels) = imdb.load_data(num_words=10000)"
      ]
    },
    {
      "cell_type": "code",
      "source": [
        "train_data[0]"
      ],
      "metadata": {
        "id": "TYuNFJwndT1e"
      },
      "execution_count": null,
      "outputs": []
    },
    {
      "cell_type": "markdown",
      "source": [
        "Manual encoding of integer sequences via multi-hot encoding"
      ],
      "metadata": {
        "id": "wM24Tgmx_sF2"
      }
    },
    {
      "cell_type": "code",
      "source": [
        "import numpy as np\n",
        "\n",
        "def vectorize_sequences(sequences, dimension=10000):\n",
        "  results = np.zeros((len(sequences), dimension))\n",
        "  for i, sequence in enumerate(sequences):\n",
        "    for j in sequence:\n",
        "        results[i , j] = 1.\n",
        "  return results\n",
        "x_train = vectorize_sequences(train_data)\n",
        "x_text = vectorize_sequences(test_data)"
      ],
      "metadata": {
        "id": "Lmuf8g0z_S59"
      },
      "execution_count": 15,
      "outputs": []
    },
    {
      "cell_type": "code",
      "source": [
        "x_train[0]"
      ],
      "metadata": {
        "colab": {
          "base_uri": "https://localhost:8080/"
        },
        "id": "Q0XB71gv_w8y",
        "outputId": "0096e6d8-e997-4396-ce4c-a370dedb3534"
      },
      "execution_count": 16,
      "outputs": [
        {
          "output_type": "execute_result",
          "data": {
            "text/plain": [
              "array([0., 1., 1., ..., 0., 0., 0.])"
            ]
          },
          "metadata": {},
          "execution_count": 16
        }
      ]
    },
    {
      "cell_type": "markdown",
      "source": [
        "Vectorize labels"
      ],
      "metadata": {
        "id": "w5fU9TFCCE8T"
      }
    },
    {
      "cell_type": "code",
      "source": [
        "y_train = np.asarray(train_labels).astype(\"float32\")\n",
        "y_test = np.asarray(test_labels).astype(\"float32\")"
      ],
      "metadata": {
        "id": "NOPpgWHNBJzP"
      },
      "execution_count": 17,
      "outputs": []
    },
    {
      "cell_type": "markdown",
      "source": [
        "Model definition"
      ],
      "metadata": {
        "id": "V_CiZeE_WP9e"
      }
    },
    {
      "cell_type": "code",
      "source": [
        "from tensorflow import keras\n",
        "from tensorflow.keras import layers\n",
        "\n",
        "model = keras.Sequential([\n",
        "    layers.Dense(16, activation=\"relu\"),\n",
        "    layers.Dense(16, activation=\"relu\"),\n",
        "    layers.Dense(1, activation=\"sigmoid\")\n",
        "])"
      ],
      "metadata": {
        "id": "iLsDVW1iChyi"
      },
      "execution_count": 18,
      "outputs": []
    },
    {
      "cell_type": "code",
      "source": [
        "model.compile(optimizer=\"rmsprop\",\n",
        "              loss=\"binary_crossentropy\",\n",
        "              metrics=[\"accuracy\"])"
      ],
      "metadata": {
        "id": "BikK-lRtWRT7"
      },
      "execution_count": 19,
      "outputs": []
    },
    {
      "cell_type": "markdown",
      "source": [
        "Set aside a validation set"
      ],
      "metadata": {
        "id": "LWsS9mlBZw70"
      }
    },
    {
      "cell_type": "code",
      "source": [
        "x_val = x_train[:10000]\n",
        "partial_x_train = x_train[10000:]\n",
        "y_val = y_train[:10000]\n",
        "partial_y_train = y_train[10000:]"
      ],
      "metadata": {
        "id": "AOihMFaQZnjN"
      },
      "execution_count": 20,
      "outputs": []
    },
    {
      "cell_type": "markdown",
      "source": [
        "Training the model"
      ],
      "metadata": {
        "id": "w80uIIb2bE_W"
      }
    },
    {
      "cell_type": "code",
      "source": [
        "history = model.fit(partial_x_train,\n",
        "                    partial_y_train,\n",
        "                    epochs=20,\n",
        "                    batch_size=512,\n",
        "                    validation_data=(x_val, y_val))"
      ],
      "metadata": {
        "colab": {
          "base_uri": "https://localhost:8080/"
        },
        "id": "Tr78X3PIbH0H",
        "outputId": "739e5f5c-71c2-4320-cbd4-b641008dc600"
      },
      "execution_count": 21,
      "outputs": [
        {
          "output_type": "stream",
          "name": "stdout",
          "text": [
            "Epoch 1/20\n",
            "30/30 [==============================] - 2s 43ms/step - loss: 0.5320 - accuracy: 0.7730 - val_loss: 0.4107 - val_accuracy: 0.8496\n",
            "Epoch 2/20\n",
            "30/30 [==============================] - 1s 33ms/step - loss: 0.3202 - accuracy: 0.8989 - val_loss: 0.3156 - val_accuracy: 0.8824\n",
            "Epoch 3/20\n",
            "30/30 [==============================] - 1s 33ms/step - loss: 0.2311 - accuracy: 0.9256 - val_loss: 0.2789 - val_accuracy: 0.8913\n",
            "Epoch 4/20\n",
            "30/30 [==============================] - 1s 34ms/step - loss: 0.1765 - accuracy: 0.9441 - val_loss: 0.2728 - val_accuracy: 0.8914\n",
            "Epoch 5/20\n",
            "30/30 [==============================] - 1s 32ms/step - loss: 0.1398 - accuracy: 0.9554 - val_loss: 0.3170 - val_accuracy: 0.8761\n",
            "Epoch 6/20\n",
            "30/30 [==============================] - 1s 32ms/step - loss: 0.1181 - accuracy: 0.9623 - val_loss: 0.3179 - val_accuracy: 0.8810\n",
            "Epoch 7/20\n",
            "30/30 [==============================] - 1s 32ms/step - loss: 0.0949 - accuracy: 0.9713 - val_loss: 0.3110 - val_accuracy: 0.8838\n",
            "Epoch 8/20\n",
            "30/30 [==============================] - 1s 32ms/step - loss: 0.0792 - accuracy: 0.9766 - val_loss: 0.3372 - val_accuracy: 0.8818\n",
            "Epoch 9/20\n",
            "30/30 [==============================] - 1s 32ms/step - loss: 0.0621 - accuracy: 0.9847 - val_loss: 0.3543 - val_accuracy: 0.8807\n",
            "Epoch 10/20\n",
            "30/30 [==============================] - 1s 34ms/step - loss: 0.0511 - accuracy: 0.9881 - val_loss: 0.3807 - val_accuracy: 0.8807\n",
            "Epoch 11/20\n",
            "30/30 [==============================] - 1s 33ms/step - loss: 0.0428 - accuracy: 0.9897 - val_loss: 0.4204 - val_accuracy: 0.8734\n",
            "Epoch 12/20\n",
            "30/30 [==============================] - 1s 33ms/step - loss: 0.0313 - accuracy: 0.9938 - val_loss: 0.4425 - val_accuracy: 0.8756\n",
            "Epoch 13/20\n",
            "30/30 [==============================] - 1s 33ms/step - loss: 0.0239 - accuracy: 0.9958 - val_loss: 0.5000 - val_accuracy: 0.8674\n",
            "Epoch 14/20\n",
            "30/30 [==============================] - 1s 33ms/step - loss: 0.0226 - accuracy: 0.9951 - val_loss: 0.5072 - val_accuracy: 0.8728\n",
            "Epoch 15/20\n",
            "30/30 [==============================] - 1s 32ms/step - loss: 0.0160 - accuracy: 0.9976 - val_loss: 0.5356 - val_accuracy: 0.8721\n",
            "Epoch 16/20\n",
            "30/30 [==============================] - 1s 32ms/step - loss: 0.0116 - accuracy: 0.9987 - val_loss: 0.5727 - val_accuracy: 0.8694\n",
            "Epoch 17/20\n",
            "30/30 [==============================] - 1s 32ms/step - loss: 0.0109 - accuracy: 0.9983 - val_loss: 0.6135 - val_accuracy: 0.8696\n",
            "Epoch 18/20\n",
            "30/30 [==============================] - 1s 33ms/step - loss: 0.0053 - accuracy: 0.9997 - val_loss: 0.6410 - val_accuracy: 0.8686\n",
            "Epoch 19/20\n",
            "30/30 [==============================] - 1s 32ms/step - loss: 0.0091 - accuracy: 0.9979 - val_loss: 0.6845 - val_accuracy: 0.8681\n",
            "Epoch 20/20\n",
            "30/30 [==============================] - 1s 32ms/step - loss: 0.0029 - accuracy: 0.9999 - val_loss: 0.7008 - val_accuracy: 0.8680\n"
          ]
        }
      ]
    },
    {
      "cell_type": "markdown",
      "source": [
        "Plot the training and validation loss"
      ],
      "metadata": {
        "id": "dwD-TU0ZeddE"
      }
    },
    {
      "cell_type": "code",
      "source": [
        "import matplotlib.pyplot as plt\n",
        "history_dict = history.history\n",
        "\n",
        "loss_values = history_dict[\"loss\"]\n",
        "val_loss_values = history_dict[\"val_loss\"]\n",
        "epochs = range(1, len(loss_values) + 1)\n",
        "\n",
        "plt.plot(epochs, loss_values, \"bo\", label=\"Training Loss\")\n",
        "plt.plot(epochs, val_loss_values, \"b\", label=\"Validation Loss\")\n",
        "plt.title(\"Training and validation loss\")\n",
        "plt.xlabel(\"Epochs\")\n",
        "plt.ylabel(\"Loss\")\n",
        "plt.legend()\n",
        "plt.show()"
      ],
      "metadata": {
        "colab": {
          "base_uri": "https://localhost:8080/",
          "height": 295
        },
        "id": "-H3dkSdlbdUv",
        "outputId": "8ea989d9-d561-4a84-db2f-b128a8740693"
      },
      "execution_count": 22,
      "outputs": [
        {
          "output_type": "display_data",
          "data": {
            "text/plain": [
              "<Figure size 432x288 with 1 Axes>"
            ],
            "image/png": "[encoded data removed]"
          },
          "metadata": {
            "needs_background": "light"
          }
        }
      ]
    },
    {
      "cell_type": "markdown",
      "source": [
        "Plot the training and validation accuracy"
      ],
      "metadata": {
        "id": "jKFR6-QnehjL"
      }
    },
    {
      "cell_type": "code",
      "source": [
        "plt.clf()\n",
        "\n",
        "acc = history_dict[\"accuracy\"]\n",
        "val_acc = history_dict[\"val_accuracy\"]\n",
        "plt.plot(epochs, acc, \"bo\", label=\"Training Acc\")\n",
        "plt.plot(epochs, val_acc, \"b\", label=\"Validation Acc\")\n",
        "plt.title(\"Training and validation accuracy\")\n",
        "plt.xlabel(\"Epochs\")\n",
        "plt.ylabel(\"Accuracy\")\n",
        "plt.legend()\n",
        "plt.show()"
      ],
      "metadata": {
        "colab": {
          "base_uri": "https://localhost:8080/",
          "height": 295
        },
        "id": "ivVwsmKkef95",
        "outputId": "89f0b710-28b8-41eb-8001-e642d8bddd92"
      },
      "execution_count": 23,
      "outputs": [
        {
          "output_type": "display_data",
          "data": {
            "text/plain": [
              "<Figure size 432x288 with 1 Axes>"
            ],
            "image/png": "[encoded data removed]"
          },
          "metadata": {
            "needs_background": "light"
          }
        }
      ]
    },
    {
      "cell_type": "code",
      "source": [],
      "metadata": {
        "id": "Rb4sz4NhgU7V"
      },
      "execution_count": null,
      "outputs": []
    }
  ]
}